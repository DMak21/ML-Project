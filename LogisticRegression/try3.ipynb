{
 "cells": [
  {
   "cell_type": "code",
   "execution_count": 1,
   "metadata": {},
   "outputs": [],
   "source": [
    "import numpy as np\n",
    "import pandas as pd\n",
    "import scipy.sparse\n",
    "import matplotlib as plt\n",
    "from sklearn.linear_model import LogisticRegression\n",
    "from sklearn.model_selection import train_test_split\n",
    "%matplotlib inline"
   ]
  },
  {
   "cell_type": "code",
   "execution_count": 2,
   "metadata": {},
   "outputs": [],
   "source": [
    "from sklearn.datasets import load_iris"
   ]
  },
  {
   "cell_type": "code",
   "execution_count": 3,
   "metadata": {},
   "outputs": [
    {
     "name": "stdout",
     "output_type": "stream",
     "text": [
      "[0 0 0 0 0 0 0 0 0 0 0 0 0 0 0 0 0 0 0 0 0 0 0 0 0 0 0 0 0 0 0 0 0 0 0 0 0\n",
      " 0 0 0 0 0 0 0 0 0 0 0 0 0 1 1 1 1 1 1 1 1 1 1 1 1 1 1 1 1 1 1 1 1 1 1 1 1\n",
      " 1 1 1 1 1 1 1 1 1 1 1 1 1 1 1 1 1 1 1 1 1 1 1 1 1 1 2 2 2 2 2 2 2 2 2 2 2\n",
      " 2 2 2 2 2 2 2 2 2 2 2 2 2 2 2 2 2 2 2 2 2 2 2 2 2 2 2 2 2 2 2 2 2 2 2 2 2\n",
      " 2 2]\n",
      "(100, 4)\n",
      "(100,)\n"
     ]
    }
   ],
   "source": [
    "X,y = load_iris(return_X_y=True)\n",
    "def y_change(y):\n",
    "    y = [i+1 for i in y]\n",
    "    return np.array(y)\n",
    "\n",
    "# y = y_change(y)\n",
    "print(y)\n",
    "X_train, X_test, y_train, y_test = train_test_split(X,y, test_size=0.33, random_state=42)\n",
    "print(X_train.shape)\n",
    "print(y_train.shape)"
   ]
  },
  {
   "cell_type": "code",
   "execution_count": 4,
   "metadata": {},
   "outputs": [],
   "source": [
    "def softmax(z):\n",
    "    z -= np.max(z)\n",
    "    sm = (np.exp(z).T / np.sum(np.exp(z),axis=1)).T\n",
    "    return sm"
   ]
  },
  {
   "cell_type": "code",
   "execution_count": 6,
   "metadata": {},
   "outputs": [],
   "source": [
    "def oneHotIt(y):\n",
    "    n_labels = len(set(y))\n",
    "    mat = np.zeros((len(y), 3))\n",
    "#     print(mat)\n",
    "    for i, val in enumerate(y):\n",
    "        mat[i, val] = 1\n",
    "#         print(i,val)\n",
    "    return mat"
   ]
  },
  {
   "cell_type": "code",
   "execution_count": 7,
   "metadata": {},
   "outputs": [],
   "source": [
    "def getLoss(w,X,y,lam):\n",
    "    m = X.shape[0] \n",
    "    y_mat = oneHotIt(y) \n",
    "    scores = np.dot(X,w)\n",
    "    prob = softmax(scores) \n",
    "    loss = (-1 / m) * np.sum(y_mat * np.log(prob)) + (lam/2)*np.sum(w*w) \n",
    "    grad = (-1 / m) * np.dot(X.T,(y_mat - prob)) + lam*w \n",
    "    return loss,grad,prob"
   ]
  },
  {
   "cell_type": "code",
   "execution_count": 8,
   "metadata": {},
   "outputs": [],
   "source": [
    "def getProbsAndPreds(someX):\n",
    "    probs = softmax(np.dot(someX,w))\n",
    "    preds = np.argmax(probs,axis=1)\n",
    "    return probs,preds"
   ]
  },
  {
   "cell_type": "code",
   "execution_count": 9,
   "metadata": {},
   "outputs": [],
   "source": [
    "lam = 1\n",
    "w = np.zeros([X_train.shape[1],len(np.unique(y))])\n",
    "m = X.shape[0]\n",
    "# print(m)\n",
    "# print(w)\n",
    "y_mat = oneHotIt(y)\n",
    "\n",
    "# print(y_mat)\n",
    "scores = np.dot(X,w)\n",
    "# # print(scores)\n",
    "prob = softmax(scores)\n",
    "# print(prob)\n",
    "# loss = (-1/m) * np.sum(y_mat * np.log(prob)) + (lam/2) * np.sum(w*w)\n",
    "# print(loss)\n",
    "# grad = (-1/m) * np.dot(X.T,(y_mat - prob)) + lam * w\n",
    "# print(grad)\n",
    "# # w -= 0.01 * grad"
   ]
  },
  {
   "cell_type": "code",
   "execution_count": null,
   "metadata": {},
   "outputs": [],
   "source": []
  },
  {
   "cell_type": "code",
   "execution_count": 10,
   "metadata": {},
   "outputs": [
    {
     "name": "stdout",
     "output_type": "stream",
     "text": [
      "1.1606015664139873\n"
     ]
    }
   ],
   "source": [
    "w = np.zeros([X.shape[1],len(np.unique(y))])\n",
    "#w = np.random.normal(loc=0.0, scale=0.01, size=(X_train.shape[1],len(np.unique(y_train))))\n",
    "lam = 1\n",
    "iterations = 1000\n",
    "learningRate = 0.1\n",
    "losses = []\n",
    "for i in range(0,iterations):\n",
    "    loss,grad,prob = getLoss(w,X_train,y_train,lam)\n",
    "    losses.append(loss)\n",
    "    w = w - (learningRate * grad)\n",
    "    \n",
    " #   if iterations % 10 == 0 :\n",
    "  #      print(loss)\n",
    "print(loss)"
   ]
  },
  {
   "cell_type": "code",
   "execution_count": null,
   "metadata": {},
   "outputs": [],
   "source": [
    "probs, preds = getProbsAndPreds(X_train)\n",
    "print(preds)\n",
    "ac = (preds == y_train).sum()/100\n",
    "jk = [i for i in range(100) if preds[i]==y_train[i]]\n",
    "print(y_train)\n",
    "print(ac)"
   ]
  },
  {
   "cell_type": "code",
   "execution_count": null,
   "metadata": {},
   "outputs": [],
   "source": [
    "clf = LogisticRegression(random_state=0, solver='lbfgs',multi_class='multinomial').fit(X, y)\n",
    "clf.score(X,y)"
   ]
  }
 ],
 "metadata": {
  "kernelspec": {
   "display_name": "Python 3",
   "language": "python",
   "name": "python3"
  },
  "language_info": {
   "codemirror_mode": {
    "name": "ipython",
    "version": 3
   },
   "file_extension": ".py",
   "mimetype": "text/x-python",
   "name": "python",
   "nbconvert_exporter": "python",
   "pygments_lexer": "ipython3",
   "version": "3.6.4"
  }
 },
 "nbformat": 4,
 "nbformat_minor": 2
}
