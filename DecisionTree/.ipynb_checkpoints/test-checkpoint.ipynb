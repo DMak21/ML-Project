{
 "cells": [
  {
   "cell_type": "code",
   "execution_count": 22,
   "metadata": {
    "collapsed": true
   },
   "outputs": [],
   "source": [
    "import numpy as np \n",
    "import pandas as pd\n",
    "from decisiontree import DecisionTree\n",
    "from sklearn.tree import DecisionTreeClassifier\n",
    "from sklearn.datasets import load_iris"
   ]
  },
  {
   "cell_type": "code",
   "execution_count": 23,
   "metadata": {
    "collapsed": true
   },
   "outputs": [],
   "source": [
    "ds = pd.read_csv('../data/titanic.csv')\n",
    "cols_to_drop = [\n",
    "    'PassengerId',\n",
    "    'Name',\n",
    "    'Ticket',\n",
    "    'Cabin',\n",
    "    'Embarked',\n",
    "]\n",
    "\n",
    "df = ds.drop(cols_to_drop, axis=1)\n",
    "def convert_sex_to_num(s):\n",
    "    if s=='male':\n",
    "        return 0\n",
    "    elif s=='female':\n",
    "        return 1\n",
    "    else:\n",
    "        return s\n",
    "\n",
    "df.Sex = df.Sex.map(convert_sex_to_num)\n",
    "data = df.dropna()\n",
    "input_cols = ['Pclass', 'Sex', 'Age', 'SibSp', 'Parch', 'Fare']\n",
    "out_cols = ['Survived']\n",
    "split = int(0.8 * data.shape[0])\n",
    "X_train = data[input_cols][:split]\n",
    "y_train = data[out_cols][:split]\n",
    "X_test = data[input_cols][split:]\n",
    "y_test = data[out_cols][split:]"
   ]
  },
  {
   "cell_type": "code",
   "execution_count": 24,
   "metadata": {},
   "outputs": [
    {
     "name": "stdout",
     "output_type": "stream",
     "text": [
      "0.7902097902097902\n"
     ]
    }
   ],
   "source": [
    "dt = DecisionTree(max_depth=10,split_val_metric='mean',split_node_criterion='gini')\n",
    "dt.fit(X_train,y_train)\n",
    "pred_mine = dt.predict(X_test)\n",
    "ac_mine = (pred_mine == y_test).sum() / X_test.shape[0]\n",
    "print(ac_mine[0])"
   ]
  },
  {
   "cell_type": "code",
   "execution_count": 25,
   "metadata": {},
   "outputs": [
    {
     "name": "stdout",
     "output_type": "stream",
     "text": [
      "0.7902097902097902\n"
     ]
    }
   ],
   "source": [
    "dt2 = DecisionTreeClassifier(max_depth=10, criterion='gini')\n",
    "dt2.fit(X_train,y_train)\n",
    "pred_sk = dt2.score(X_test,y_test)\n",
    "print(pred_sk)"
   ]
  },
  {
   "cell_type": "code",
   "execution_count": 26,
   "metadata": {
    "collapsed": true
   },
   "outputs": [],
   "source": [
    "iris = pd.read_csv('../data/Iris.csv')\n",
    "cols = ['Id']\n",
    "iris = iris.drop(cols,axis=1)\n",
    "input_col = ['SepalLengthCm', 'SepalWidthCm', 'PetalLengthCm', 'PetalWidthCm']\n",
    "output_col = ['Species']\n",
    "sp = int(0.8 * iris[input_col].shape[0])\n",
    "X_iris = iris[input_col]\n",
    "y_iris = iris[output_col]\n",
    "X_iris_train = iris[input_col][:sp]\n",
    "y_iris_train = np.array(iris[output_col][:sp])\n",
    "X_iris_test = iris[input_col][sp:]\n",
    "y_iris_test = np.array(iris[output_col][sp:])"
   ]
  },
  {
   "cell_type": "code",
   "execution_count": 27,
   "metadata": {},
   "outputs": [
    {
     "name": "stdout",
     "output_type": "stream",
     "text": [
      "0.8333333333333334\n"
     ]
    }
   ],
   "source": [
    "dt_iris = DecisionTree(max_depth=10,split_val_metric='median',split_node_criterion='entropy')\n",
    "dt_iris.fit(X_iris_train,y_iris_train)\n",
    "pred_iris_mine = dt_iris.predict(X_iris_test)\n",
    "cnt = 0\n",
    "for i in range(len(pred_iris_mine)):\n",
    "    if pred_iris_mine[i] == y_iris_test[i]:\n",
    "        cnt+=1\n",
    "cnt/=len(pred_iris_mine)\n",
    "print(cnt)"
   ]
  },
  {
   "cell_type": "code",
   "execution_count": 28,
   "metadata": {},
   "outputs": [
    {
     "name": "stdout",
     "output_type": "stream",
     "text": [
      "0.8\n"
     ]
    }
   ],
   "source": [
    "dt2_iris = DecisionTreeClassifier(max_depth=10,criterion='entropy')\n",
    "dt2_iris.fit(X_iris_train, y_iris_train)\n",
    "pred_iris_sk = dt2_iris.score(X_iris_test,y_iris_test)\n",
    "print(pred_iris_sk)"
   ]
  }
 ],
 "metadata": {
  "kernelspec": {
   "display_name": "Python 3",
   "language": "python",
   "name": "python3"
  },
  "language_info": {
   "codemirror_mode": {
    "name": "ipython",
    "version": 3
   },
   "file_extension": ".py",
   "mimetype": "text/x-python",
   "name": "python",
   "nbconvert_exporter": "python",
   "pygments_lexer": "ipython3",
   "version": "3.7.1"
  }
 },
 "nbformat": 4,
 "nbformat_minor": 2
}
