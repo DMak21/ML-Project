{
 "cells": [
  {
   "cell_type": "code",
   "execution_count": 1,
   "metadata": {},
   "outputs": [],
   "source": [
    "import numpy as np\n",
    "import pandas as pd\n",
    "\n",
    "class AdaBoost(object):\n",
    "\n",
    "    def __init__(self, x=None, y=None, T=10):\n",
    "        self.x = x\n",
    "        self.n = self.x.shape[0]\n",
    "        self.y = y\n",
    "        self.weights = np.ones(self.n)/self.n\n",
    "        self.epsilon = []\n",
    "        self.alpha = []\n",
    "        self.classifiers = []\n",
    "        self.num_trees = T\n",
    "        \n",
    "    def lsweights(self,x,y):\n",
    "        xt = np.transpose(x)\n",
    "        xtx = np.dot(xt, x)\n",
    "        if xtx.shape[0] != xtx.shape[1]:\n",
    "            raise ValueError('Needs to be a square matrix for inverse')\n",
    "        inv = np.linalg.inv(xtx)\n",
    "        xty = np.dot(xt, y)\n",
    "        return np.dot(inv, xty)\n",
    "\n",
    "    def predict(self,x):\n",
    "        class_output = np.dot(x, self.weights)\n",
    "        return np.sign(class_output)\n",
    "        \n",
    "    def boost(self,data):\n",
    "        \n",
    "        for t in range(self.num_trees):\n",
    "            output = np.random.choice(self.n, self.n, p=self.weights)\n",
    "\n",
    "            self.weights = lsweights(data,y)\n",
    "\n",
    "            Y_pred = predict(data)\n",
    "            \n",
    "            e_t = np.sum((Y_pred != self.y) * self.weights)\n",
    "            \n",
    "            if e_t > 0.5:\n",
    "                ls.weights = -ls.weights\n",
    "                Y_pred = predict(self.X_train)\n",
    "                e_t = np.sum((Y_pred != self.y_train) * self.weights)\n",
    "\n",
    "            self.epsilont.append(e_t)\n",
    "\n",
    "            alpha_t = 0.5 * np.log((1 - e_t)/e_t)\n",
    "            self.alphas.append(alpha_t)\n",
    "            self.classifiers.append(ls)\n",
    "            \n",
    "#             print alpha_t   \n",
    "            self.weights *= np.exp(-alpha_t* Y_pred * self.y)\n",
    "            self.weights /= np.sum(self.weights)\n",
    "\n"
   ]
  },
  {
   "cell_type": "code",
   "execution_count": null,
   "metadata": {},
   "outputs": [],
   "source": []
  }
 ],
 "metadata": {
  "kernelspec": {
   "display_name": "Python 3",
   "language": "python",
   "name": "python3"
  },
  "language_info": {
   "codemirror_mode": {
    "name": "ipython",
    "version": 3
   },
   "file_extension": ".py",
   "mimetype": "text/x-python",
   "name": "python",
   "nbconvert_exporter": "python",
   "pygments_lexer": "ipython3",
   "version": "3.6.5"
  }
 },
 "nbformat": 4,
 "nbformat_minor": 2
}
