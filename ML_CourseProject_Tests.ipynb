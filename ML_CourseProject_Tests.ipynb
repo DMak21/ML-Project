{
  "nbformat": 4,
  "nbformat_minor": 0,
  "metadata": {
    "colab": {
      "name": "ML_CourseProject_Tests.ipynb",
      "version": "0.3.2",
      "provenance": [],
      "collapsed_sections": []
    },
    "kernelspec": {
      "name": "python3",
      "display_name": "Python 3"
    }
  },
  "cells": [
    {
      "metadata": {
        "id": "tAD19YNz2Ee3",
        "colab_type": "text"
      },
      "cell_type": "markdown",
      "source": [
        "You have 6 cells in this notebook to fill. Follow the instructions in the Notebook very carefully and **do the exact thing** we have asked you to.\n",
        "\n",
        "You will be using your package and making your api calls do train and predict for the dataset we give for each algorithm that you coded up.\n",
        "\n",
        "The external dataset used in cells 4-6 has to be downloaded from here. The data is already in form on X_train, y_train And X_test for you. Do\n",
        "not do your splits.\n",
        "\n",
        "Link for dataset\n",
        "https://drive.google.com/file/d/1GPC5y0bCVKsG40ErTqeUsLgfk5JuGJi-/view?usp=sharing\n",
        "\n",
        "\n",
        "Submit this notebook filled by tomorrow Midnight, ie, 25th  April, Midnight, in this folder\n",
        "https://drive.google.com/drive/folders/18jrjzCpibUqs8YUoYs6FXvBZqWlY_eix?usp=sharing\n",
        "\n",
        "The notebook name should be your team number which you used during code submission.\n",
        "We will run the 6 cells and if your cell runs, you will get marks for it, else you won't. So, code carefully."
      ]
    },
    {
      "metadata": {
        "id": "dCyKV4E32rU8",
        "colab_type": "text"
      },
      "cell_type": "markdown",
      "source": [
        "1. Naive Bayes\n",
        "\n",
        "Hyperparameters: \n",
        "type=multinomial, priors=[0.5, 0.5]\n",
        "\n",
        "**Train 1**\n",
        "X = np.array([[1., 1.], [1, -1], [-1, -1], [-1, 1.]]), y=np.array([1, 0, 0, 0]) \n",
        "**Test 1**\n",
        "X=  np.array([[1., 1.], [1, -0.5], [-0.5, -1], [0.5, 0.5]])\n",
        "\n",
        "**Train 2**\n",
        "X = np.array([[1., 1.], [1, -1], [-1, -1], [-1, 1.]]), y=np.array([0, 1, 0, 1])\n",
        "**Test 2**\n",
        "X = np.array([[1., 1.], [1, -0.5], [-0.5, -1], [0.5, 0.5]])"
      ]
    },
    {
      "metadata": {
        "id": "MCYSG3K31_wy",
        "colab_type": "code",
        "colab": {}
      },
      "cell_type": "code",
      "source": [
        "# INSERT NAIVE BAYES TRAIN AND TEST CODE HERE"
      ],
      "execution_count": 0,
      "outputs": []
    },
    {
      "metadata": {
        "id": "F4eVl9IN3TVu",
        "colab_type": "text"
      },
      "cell_type": "markdown",
      "source": [
        "2. Decision Tree\n",
        "\n",
        "Hyperparameters: \n",
        "type=max_depth = 2, Split_node_criterion = ”gini”\n",
        "\n",
        "**Train 1**\n",
        "X = np.array([[1., 1.], [1, -1], [-1, -1], [-1, 1.]]), y=np.array([1, 0, 0, 0]) \n",
        "**Test 1**\n",
        "X=  np.array([[1., 1.], [1, -0.5], [-0.5, -1], [0.5, 0.5]])\n",
        "\n",
        "**Train 2**\n",
        "X = np.array([[1., 1.], [1, -1], [-1, -1], [-1, 1.]]), y=np.array([0, 1, 0, 1])\n",
        "**Test 2**\n",
        "X = np.array([[1., 1.], [1, -0.5], [-0.5, -1], [0.5, 0.5]])"
      ]
    },
    {
      "metadata": {
        "id": "OfdBoHvX3Rce",
        "colab_type": "code",
        "colab": {}
      },
      "cell_type": "code",
      "source": [
        "# INSERT Decision Tree TRAIN AND TEST CODE HERE"
      ],
      "execution_count": 0,
      "outputs": []
    },
    {
      "metadata": {
        "id": "iJTAxjzO3yXz",
        "colab_type": "text"
      },
      "cell_type": "markdown",
      "source": [
        "3. Logistic Regression\n",
        "\n",
        "Hyperparameters: \n",
        "type = learning_rate=0.01, num_steps =100\n",
        "\n",
        "**Train 1**\n",
        "X = np.array([[1., 1.], [1, -1], [-1, -1], [-1, 1.]]), y=np.array([1, 0, 0, 0]) \n",
        "**Test 1**\n",
        "X=  np.array([[1., 1.], [1, -0.5], [-0.5, -1], [0.5, 0.5]])\n",
        "\n",
        "**Train 2**\n",
        "X = np.array([[1., 1.], [1, -1], [-1, -1], [-1, 1.]]), y=np.array([0, 1, 0, 1])\n",
        "**Test 2**\n",
        "X = np.array([[1., 1.], [1, -0.5], [-0.5, -1], [0.5, 0.5]])"
      ]
    },
    {
      "metadata": {
        "id": "UGKAna783wiS",
        "colab_type": "code",
        "colab": {}
      },
      "cell_type": "code",
      "source": [
        "# INSERT Logistic Regression TRAIN AND TEST CODE HERE"
      ],
      "execution_count": 0,
      "outputs": []
    },
    {
      "metadata": {
        "id": "S8Cvhbs45wXG",
        "colab_type": "text"
      },
      "cell_type": "markdown",
      "source": [
        "4. Random Forest\n",
        "\n",
        "Hyperparameters : n_trees=100, max_depth=5,split_val_metric=median,split_node_criterion=entropy, max_features=sqrt, bootstrap=True, n_cores=2\n",
        "\n",
        "**Train**\n",
        "Complete X_train and y_train dataset attached. Train on full data. Do not do any internal cross validation.\n",
        "\n",
        "**Test**\n",
        "X_test attached."
      ]
    },
    {
      "metadata": {
        "id": "CwKIh93z5vTz",
        "colab_type": "code",
        "colab": {}
      },
      "cell_type": "code",
      "source": [
        "# Insert Random Forest Train and Test Code here"
      ],
      "execution_count": 0,
      "outputs": []
    },
    {
      "metadata": {
        "id": "Ts7D3kLA6kKq",
        "colab_type": "text"
      },
      "cell_type": "markdown",
      "source": [
        "5. AdaBoost\n",
        "\n",
        "Hyperparameters : n_trees=100, learning_rate=0.01\n",
        "\n",
        "**Train**\n",
        "Complete X_train and y_train dataset attached. Train on full data. Do not do any internal cross validation.\n",
        "\n",
        "**Test**\n",
        "X_test attached."
      ]
    },
    {
      "metadata": {
        "id": "zEITMZCP6gua",
        "colab_type": "code",
        "colab": {}
      },
      "cell_type": "code",
      "source": [
        "# Insert AdaBoost Train and Test Code here"
      ],
      "execution_count": 0,
      "outputs": []
    },
    {
      "metadata": {
        "id": "SbwYWYyK6poh",
        "colab_type": "text"
      },
      "cell_type": "markdown",
      "source": [
        "6. Stacking\n",
        "\n",
        "Run stacking for the following three specifications one by one.\n",
        "\n",
        "Stacking(Logistic Regression)\n",
        "\n",
        "Stacking(Decision Tree, Decision  Tree)\n",
        "\n",
        "Stacking(Decision Tree, Logistic Regression, Logistic Regression, Naive Bayes=(“Gaussian”))\n",
        "\n",
        "\n",
        "\n",
        "**Train**\n",
        "Complete X_train and y_train dataset attached. Train on full data. Do not do any internal cross validation.\n",
        "\n",
        "**Test**\n",
        "X_test attached."
      ]
    },
    {
      "metadata": {
        "id": "uxclHA486nMx",
        "colab_type": "code",
        "colab": {}
      },
      "cell_type": "code",
      "source": [
        "# Insert Stacking Train and Test Code here"
      ],
      "execution_count": 0,
      "outputs": []
    },
    {
      "metadata": {
        "id": "dRbOz4qJ7MfG",
        "colab_type": "code",
        "colab": {}
      },
      "cell_type": "code",
      "source": [
        ""
      ],
      "execution_count": 0,
      "outputs": []
    }
  ]
}