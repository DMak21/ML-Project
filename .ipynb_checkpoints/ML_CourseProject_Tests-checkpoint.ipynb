{
 "cells": [
  {
   "cell_type": "markdown",
   "metadata": {
    "colab_type": "text",
    "id": "tAD19YNz2Ee3"
   },
   "source": [
    "You have 6 cells in this notebook to fill. Follow the instructions in the Notebook very carefully and **do the exact thing** we have asked you to.\n",
    "\n",
    "You will be using your package and making your api calls do train and predict for the dataset we give for each algorithm that you coded up.\n",
    "\n",
    "The external dataset used in cells 4-6 has to be downloaded from here. The data is already in form on X_train, y_train And X_test for you. Do\n",
    "not do your splits.\n",
    "\n",
    "Link for dataset\n",
    "https://drive.google.com/file/d/1GPC5y0bCVKsG40ErTqeUsLgfk5JuGJi-/view?usp=sharing\n",
    "\n",
    "\n",
    "Submit this notebook filled by tomorrow Midnight, ie, 25th  April, Midnight, in this folder\n",
    "https://drive.google.com/drive/folders/18jrjzCpibUqs8YUoYs6FXvBZqWlY_eix?usp=sharing\n",
    "\n",
    "The notebook name should be your team number which you used during code submission.\n",
    "We will run the 6 cells and if your cell runs, you will get marks for it, else you won't. So, code carefully."
   ]
  },
  {
   "cell_type": "markdown",
   "metadata": {
    "colab_type": "text",
    "id": "dCyKV4E32rU8"
   },
   "source": [
    "1. Naive Bayes\n",
    "\n",
    "Hyperparameters: \n",
    "type=multinomial, priors=[0.5, 0.5]\n",
    "\n",
    "**Train 1**\n",
    "X = np.array([[1., 1.], [1, -1], [-1, -1], [-1, 1.]]), y=np.array([1, 0, 0, 0]) \n",
    "**Test 1**\n",
    "X=  np.array([[1., 1.], [1, -0.5], [-0.5, -1], [0.5, 0.5]])\n",
    "\n",
    "**Train 2**\n",
    "X = np.array([[1., 1.], [1, -1], [-1, -1], [-1, 1.]]), y=np.array([0, 1, 0, 1])\n",
    "**Test 2**\n",
    "X = np.array([[1., 1.], [1, -0.5], [-0.5, -1], [0.5, 0.5]])"
   ]
  },
  {
   "cell_type": "code",
   "execution_count": 0,
   "metadata": {
    "colab": {},
    "colab_type": "code",
    "id": "MCYSG3K31_wy"
   },
   "outputs": [],
   "source": [
    "# INSERT NAIVE BAYES TRAIN AND TEST CODE HERE"
   ]
  },
  {
   "cell_type": "markdown",
   "metadata": {
    "colab_type": "text",
    "id": "F4eVl9IN3TVu"
   },
   "source": [
    "2. Decision Tree\n",
    "\n",
    "Hyperparameters: \n",
    "type=max_depth = 2, Split_node_criterion = ”gini”\n",
    "\n",
    "**Train 1**\n",
    "X = np.array([[1., 1.], [1, -1], [-1, -1], [-1, 1.]]), y=np.array([1, 0, 0, 0]) \n",
    "**Test 1**\n",
    "X=  np.array([[1., 1.], [1, -0.5], [-0.5, -1], [0.5, 0.5]])\n",
    "\n",
    "**Train 2**\n",
    "X = np.array([[1., 1.], [1, -1], [-1, -1], [-1, 1.]]), y=np.array([0, 1, 0, 1])\n",
    "**Test 2**\n",
    "X = np.array([[1., 1.], [1, -0.5], [-0.5, -1], [0.5, 0.5]])"
   ]
  },
  {
   "cell_type": "code",
   "execution_count": 0,
   "metadata": {
    "colab": {},
    "colab_type": "code",
    "id": "OfdBoHvX3Rce"
   },
   "outputs": [],
   "source": [
    "# INSERT Decision Tree TRAIN AND TEST CODE HERE"
   ]
  },
  {
   "cell_type": "markdown",
   "metadata": {
    "colab_type": "text",
    "id": "iJTAxjzO3yXz"
   },
   "source": [
    "3. Logistic Regression\n",
    "\n",
    "Hyperparameters: \n",
    "type = learning_rate=0.01, num_steps =100\n",
    "\n",
    "**Train 1**\n",
    "X = np.array([[1., 1.], [1, -1], [-1, -1], [-1, 1.]]), y=np.array([1, 0, 0, 0]) \n",
    "**Test 1**\n",
    "X=  np.array([[1., 1.], [1, -0.5], [-0.5, -1], [0.5, 0.5]])\n",
    "\n",
    "**Train 2**\n",
    "X = np.array([[1., 1.], [1, -1], [-1, -1], [-1, 1.]]), y=np.array([0, 1, 0, 1])\n",
    "**Test 2**\n",
    "X = np.array([[1., 1.], [1, -0.5], [-0.5, -1], [0.5, 0.5]])"
   ]
  },
  {
   "cell_type": "code",
   "execution_count": 0,
   "metadata": {
    "colab": {},
    "colab_type": "code",
    "id": "UGKAna783wiS"
   },
   "outputs": [],
   "source": [
    "# INSERT Logistic Regression TRAIN AND TEST CODE HERE"
   ]
  },
  {
   "cell_type": "markdown",
   "metadata": {
    "colab_type": "text",
    "id": "S8Cvhbs45wXG"
   },
   "source": [
    "4. Random Forest\n",
    "\n",
    "Hyperparameters : n_trees=100, max_depth=5,split_val_metric=median,split_node_criterion=entropy, max_features=sqrt, bootstrap=True, n_cores=2\n",
    "\n",
    "**Train**\n",
    "Complete X_train and y_train dataset attached. Train on full data. Do not do any internal cross validation.\n",
    "\n",
    "**Test**\n",
    "X_test attached."
   ]
  },
  {
   "cell_type": "code",
   "execution_count": 0,
   "metadata": {
    "colab": {},
    "colab_type": "code",
    "id": "CwKIh93z5vTz"
   },
   "outputs": [],
   "source": [
    "# Insert Random Forest Train and Test Code here"
   ]
  },
  {
   "cell_type": "markdown",
   "metadata": {
    "colab_type": "text",
    "id": "Ts7D3kLA6kKq"
   },
   "source": [
    "5. AdaBoost\n",
    "\n",
    "Hyperparameters : n_trees=100, learning_rate=0.01\n",
    "\n",
    "**Train**\n",
    "Complete X_train and y_train dataset attached. Train on full data. Do not do any internal cross validation.\n",
    "\n",
    "**Test**\n",
    "X_test attached."
   ]
  },
  {
   "cell_type": "code",
   "execution_count": 0,
   "metadata": {
    "colab": {},
    "colab_type": "code",
    "id": "zEITMZCP6gua"
   },
   "outputs": [],
   "source": [
    "# Insert AdaBoost Train and Test Code here"
   ]
  },
  {
   "cell_type": "markdown",
   "metadata": {
    "colab_type": "text",
    "id": "SbwYWYyK6poh"
   },
   "source": [
    "6. Stacking\n",
    "\n",
    "Run stacking for the following three specifications one by one.\n",
    "\n",
    "Stacking(Logistic Regression)\n",
    "\n",
    "Stacking(Decision Tree, Decision  Tree)\n",
    "\n",
    "Stacking(Decision Tree, Logistic Regression, Logistic Regression, Naive Bayes=(“Gaussian”))\n",
    "\n",
    "\n",
    "\n",
    "**Train**\n",
    "Complete X_train and y_train dataset attached. Train on full data. Do not do any internal cross validation.\n",
    "\n",
    "**Test**\n",
    "X_test attached."
   ]
  },
  {
   "cell_type": "code",
   "execution_count": 0,
   "metadata": {
    "colab": {},
    "colab_type": "code",
    "id": "uxclHA486nMx"
   },
   "outputs": [],
   "source": [
    "# Insert Stacking Train and Test Code here"
   ]
  },
  {
   "cell_type": "code",
   "execution_count": 1,
   "metadata": {
    "colab": {},
    "colab_type": "code",
    "id": "dRbOz4qJ7MfG"
   },
   "outputs": [],
   "source": [
    "from Stack import Stack"
   ]
  },
  {
   "cell_type": "code",
   "execution_count": null,
   "metadata": {},
   "outputs": [],
   "source": [
    "stk1 = Stack()"
   ]
  }
 ],
 "metadata": {
  "colab": {
   "collapsed_sections": [],
   "name": "ML_CourseProject_Tests.ipynb",
   "provenance": [],
   "version": "0.3.2"
  },
  "kernelspec": {
   "display_name": "Python 3",
   "language": "python",
   "name": "python3"
  },
  "language_info": {
   "codemirror_mode": {
    "name": "ipython",
    "version": 3
   },
   "file_extension": ".py",
   "mimetype": "text/x-python",
   "name": "python",
   "nbconvert_exporter": "python",
   "pygments_lexer": "ipython3",
   "version": "3.7.1"
  }
 },
 "nbformat": 4,
 "nbformat_minor": 1
}
